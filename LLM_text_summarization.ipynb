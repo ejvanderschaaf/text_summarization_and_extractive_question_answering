{
 "cells": [
  {
   "cell_type": "markdown",
   "id": "b31b3f16-93dc-491b-a2f3-1dc89f920759",
   "metadata": {},
   "source": [
    "# Pre-Trained LLMs for Text Summarization and Extractive Question Answering\n",
    "Elizabeth Van Der Schaaf\n",
    "\n",
    "November 17, 2024\n",
    "## Introduction\n",
    "Large Language Models (LLMs) leverage deep learning and transformer architectures to handle massive datasets. They utilize millions or billions of parameters, enabling them to perform a wide variety of nuanced tasks. Some of their capabilites include text generation, translation, and summarization.\n",
    "\n",
    "This report will examine a couple of these cabablities using pre-trained models from the Hugging Face library. First two models will be compared for their text summarization capabilities. Afterwards an extractive question answering model will be explored. \n",
    "\n",
    "## Analysis \n",
    "\n",
    "#### Text Summarization\n",
    "We'll load a Bart model and a Bert model from the transformers package."
   ]
  },
  {
   "cell_type": "code",
   "execution_count": 33,
   "id": "5bc1dedf-b467-42b2-8961-b258264ed63b",
   "metadata": {},
   "outputs": [
    {
     "name": "stderr",
     "output_type": "stream",
     "text": [
      "Config of the encoder: <class 'transformers.models.bert.modeling_bert.BertModel'> is overwritten by shared encoder config: BertConfig {\n",
      "  \"_name_or_path\": \"bert-base-uncased\",\n",
      "  \"architectures\": [\n",
      "    \"BertForMaskedLM\"\n",
      "  ],\n",
      "  \"attention_probs_dropout_prob\": 0.1,\n",
      "  \"classifier_dropout\": null,\n",
      "  \"gradient_checkpointing\": false,\n",
      "  \"hidden_act\": \"gelu\",\n",
      "  \"hidden_dropout_prob\": 0.1,\n",
      "  \"hidden_size\": 768,\n",
      "  \"initializer_range\": 0.02,\n",
      "  \"intermediate_size\": 3072,\n",
      "  \"layer_norm_eps\": 1e-12,\n",
      "  \"max_position_embeddings\": 512,\n",
      "  \"model_type\": \"bert\",\n",
      "  \"num_attention_heads\": 12,\n",
      "  \"num_hidden_layers\": 12,\n",
      "  \"pad_token_id\": 0,\n",
      "  \"position_embedding_type\": \"absolute\",\n",
      "  \"return_dict\": false,\n",
      "  \"transformers_version\": \"4.46.2\",\n",
      "  \"type_vocab_size\": 2,\n",
      "  \"use_cache\": true,\n",
      "  \"vocab_size\": 30522\n",
      "}\n",
      "\n",
      "Config of the decoder: <class 'transformers.models.bert.modeling_bert.BertLMHeadModel'> is overwritten by shared decoder config: BertConfig {\n",
      "  \"_name_or_path\": \"bert-base-uncased\",\n",
      "  \"add_cross_attention\": true,\n",
      "  \"architectures\": [\n",
      "    \"BertForMaskedLM\"\n",
      "  ],\n",
      "  \"attention_probs_dropout_prob\": 0.1,\n",
      "  \"classifier_dropout\": null,\n",
      "  \"gradient_checkpointing\": false,\n",
      "  \"hidden_act\": \"gelu\",\n",
      "  \"hidden_dropout_prob\": 0.1,\n",
      "  \"hidden_size\": 768,\n",
      "  \"initializer_range\": 0.02,\n",
      "  \"intermediate_size\": 3072,\n",
      "  \"is_decoder\": true,\n",
      "  \"layer_norm_eps\": 1e-12,\n",
      "  \"max_position_embeddings\": 512,\n",
      "  \"model_type\": \"bert\",\n",
      "  \"num_attention_heads\": 12,\n",
      "  \"num_hidden_layers\": 12,\n",
      "  \"pad_token_id\": 0,\n",
      "  \"position_embedding_type\": \"absolute\",\n",
      "  \"return_dict\": false,\n",
      "  \"transformers_version\": \"4.46.2\",\n",
      "  \"type_vocab_size\": 2,\n",
      "  \"use_cache\": true,\n",
      "  \"vocab_size\": 30522\n",
      "}\n",
      "\n"
     ]
    }
   ],
   "source": [
    "import warnings\n",
    "warnings.filterwarnings('ignore')\n",
    "\n",
    "\n",
    "from transformers import AutoTokenizer, AutoModelForSeq2SeqLM\n",
    "\n",
    "# Load Bart tokenizer and model\n",
    "tokenizer_bart = AutoTokenizer.from_pretrained(\"facebook/bart-large-cnn\")\n",
    "model_bart = AutoModelForSeq2SeqLM.from_pretrained(\"facebook/bart-large-cnn\")\n",
    "\n",
    "# Load Bert tokenizer and model\n",
    "tokenizer_bert = AutoTokenizer.from_pretrained(\"patrickvonplaten/bert2bert_cnn_daily_mail\")\n",
    "model_bert = AutoModelForSeq2SeqLM.from_pretrained(\"patrickvonplaten/bert2bert_cnn_daily_mail\")"
   ]
  },
  {
   "cell_type": "markdown",
   "id": "dae33b50-b265-4b6f-a904-7de220bf2772",
   "metadata": {},
   "source": [
    "The data will be from a popular dataset of news articles taken from CNN and the Daily Mail (_CNN-DailyMail News Text Summarization,_ 2021)."
   ]
  },
  {
   "cell_type": "code",
   "execution_count": 34,
   "id": "bbf37e05-ea25-40aa-bb79-690f16775f42",
   "metadata": {},
   "outputs": [
    {
     "name": "stdout",
     "output_type": "stream",
     "text": [
      "                                         id  \\\n",
      "0  92c514c913c0bdfe25341af9fd72b29db544099b   \n",
      "1  2003841c7dc0e7c5b1a248f9cd536d727f27a45a   \n",
      "2  91b7d2311527f5c2b63a65ca98d21d9c92485149   \n",
      "3  caabf9cbdf96eb1410295a673e953d304391bfbb   \n",
      "4  3da746a7d9afcaa659088c8366ef6347fe6b53ea   \n",
      "\n",
      "                                             article  \\\n",
      "0  Ever noticed how plane seats appear to be gett...   \n",
      "1  A drunk teenage boy had to be rescued by secur...   \n",
      "2  Dougie Freedman is on the verge of agreeing a ...   \n",
      "3  Liverpool target Neto is also wanted by PSG an...   \n",
      "4  Bruce Jenner will break his silence in a two-h...   \n",
      "\n",
      "                                          highlights  \n",
      "0  Experts question if  packed out planes are put...  \n",
      "1  Drunk teenage boy climbed into lion enclosure ...  \n",
      "2  Nottingham Forest are close to extending Dougi...  \n",
      "3  Fiorentina goalkeeper Neto has been linked wit...  \n",
      "4  Tell-all interview with the reality TV star, 6...  \n"
     ]
    }
   ],
   "source": [
    "import pandas as pd\n",
    "\n",
    "cnn = pd.read_csv(\"cnn_test.csv\")\n",
    "print(cnn.head())"
   ]
  },
  {
   "cell_type": "code",
   "execution_count": 35,
   "id": "2d27845c-be20-4456-a481-0b23b0e4f338",
   "metadata": {},
   "outputs": [],
   "source": [
    "# function to summarize text\n",
    "def summarize(tokenizer, model, text, max_length=1000, min_length=40):\n",
    "    # Encode the input text\n",
    "    inputs = tokenizer.encode( text, return_tensors='pt', max_length=1024, truncation=True)\n",
    "    # Generate summary using the model\n",
    "    summary_ids = model.generate(inputs, max_length=max_length, min_length=min_length, length_penalty=2.0, num_beams=4, early_stopping=True)\n",
    "    # Decode the summary\n",
    "    summary = tokenizer.decode(summary_ids[0], skip_special_tokens=True)\n",
    "    return summary"
   ]
  },
  {
   "cell_type": "code",
   "execution_count": 36,
   "id": "ed9e38bf-9105-4be3-ba88-ae8fe0180bec",
   "metadata": {},
   "outputs": [
    {
     "name": "stdout",
     "output_type": "stream",
     "text": [
      "Highlights (reference summary):\n",
      " Experts question if  packed out planes are putting passengers at risk .\n",
      "U.S consumer advisory group says minimum space must be stipulated .\n",
      "Safety tests conducted on planes with more leg room than airlines offer .\n",
      "\n",
      "Summary by BART model\n",
      " original length = 2126, summary length = 321 chars: \n",
      "\n",
      "\t U.S consumer advisory group set up by Department of Transportation said that while the government is happy to set standards for animals flying on planes, it doesn't stipulate a minimum amount of space for humans. Tests conducted by the FAA use planes with a 31 inch pitch, a standard which on some airlines has decreased.\n",
      "\n",
      "Summary by BERT model\n",
      " original length = 2126, summary length = 244 chars: \n",
      "\n",
      "\t the government is happy to set standards for animals flying on planes. but the government doesn't stipulate a minimum amount of space for humans. many economy seats on united airlines have 30 inches of room, while some airlines offer 28 inches.\n",
      "\n",
      "----------------------------------------\n",
      "Highlights (reference summary):\n",
      " Drunk teenage boy climbed into lion enclosure at zoo in west India .\n",
      "Rahul Kumar, 17, ran towards animals shouting 'Today I kill a lion!'\n",
      "Fortunately he fell into a moat before reaching lions and was rescued .\n",
      "\n",
      "Summary by BART model\n",
      " original length = 1753, summary length = 286 chars: \n",
      "\n",
      "\t Rahul Kumar, 17, clambered over enclosure fence at Kamla Nehru Zoological Park. He ran towards the animals, shouting: 'Today I kill a lion or a lion kills me!' Fortunately, Mr Kumar fell into a moat before reaching the animals. He has been cautioned and sent for psychiatric evaluation.\n",
      "\n",
      "Summary by BERT model\n",
      " original length = 1753, summary length = 277 chars: \n",
      "\n",
      "\t rahul kumar, 17, clambered over enclosure fence at kamla nehru zoological park in western india. he began running towards the lions, shouting he would'kill them'before jumping into the enclosure. mr kumar said he was drunk and'thought i'd stand a good chance'against predators.\n",
      "\n",
      "----------------------------------------\n",
      "Highlights (reference summary):\n",
      " Nottingham Forest are close to extending Dougie Freedman's contract .\n",
      "The Forest boss took over from former manager Stuart Pearce in February .\n",
      "Freedman has since lead the club to ninth in the Championship .\n",
      "\n",
      "Summary by BART model\n",
      " original length = 633, summary length = 227 chars: \n",
      "\n",
      "\t Dougie Freedman is on the verge of agreeing a new two-year deal. Freedman has stabilised Forest since he replaced Stuart Pearce. Forest made an audacious attempt on the play-off places when Freedman replaced Pearce in February.\n",
      "\n",
      "Summary by BERT model\n",
      " original length = 633, summary length = 199 chars: \n",
      "\n",
      "\t dougie freedman is set to sign a new deal at nottingham forest. freedman has impressed at the city ground since replacing stuart pearce. the club's owners are pleased with freedman's job at the club.\n",
      "\n",
      "----------------------------------------\n"
     ]
    }
   ],
   "source": [
    "for num in range(3):\n",
    "    article = cnn['article'].iloc[num]\n",
    "    print(f\"Highlights (reference summary):\\n {cnn['highlights'].iloc[num]}\\n\")\n",
    "\n",
    "    method = \"BART\"\n",
    "    summary_bart = summarize(tokenizer_bart, model_bart, article)\n",
    "    print(f\"Summary by {method} model\\n original length = {len(article)}, summary length = {len(summary_bart)} chars: \\n\\n\\t {summary_bart}\\n\")\n",
    "\n",
    "    method = \"BERT\"\n",
    "    summary_bert = summarize(tokenizer_bert, model_bert, article)\n",
    "    print(f\"Summary by {method} model\\n original length = {len(article)}, summary length = {len(summary_bert)} chars: \\n\\n\\t {summary_bert}\\n\")\n",
    "    print(\"-\"*40) "
   ]
  },
  {
   "cell_type": "markdown",
   "id": "97e7175c-5c2d-43ea-9e02-c06ad4394e6f",
   "metadata": {},
   "source": [
    "One way to evaluate LLM generated summaries is the ROUGE metric (Recal-Oriented Understudy for Gisting Evaluation). This involves comparison of model-generated output against a pre-generated reference summary. There are several flavors of ROUGE evaluation. ROUGE-N looks at the overlap of N-grams between the model's output and the reference, giving an indication of precision and recall. ROUGE-L looks at the maximum sequence of words (Longest Common Subsequence - LCS) in the two summaries. ROUGE-S looks at skip-bigrams, providing a wider view of similarity (Waheed, 2023). ROUGE-Lsum is similar to ROUGE-L, but considers the entirety of the summary.\n",
    "\n",
    "We will consider ROUGE-1 and ROUGE-2 (single and bi-gram overlap) as well as ROUGE-L and ROUGE-Lsum."
   ]
  },
  {
   "cell_type": "code",
   "execution_count": 37,
   "id": "62a0ab12-26a2-4eec-961b-15f5d6b04fd5",
   "metadata": {},
   "outputs": [
    {
     "name": "stdout",
     "output_type": "stream",
     "text": [
      "WARNING:tensorflow:From C:\\Users\\ejvan\\anaconda3\\Lib\\site-packages\\tf_keras\\src\\losses.py:2976: The name tf.losses.sparse_softmax_cross_entropy is deprecated. Please use tf.compat.v1.losses.sparse_softmax_cross_entropy instead.\n",
      "\n"
     ]
    }
   ],
   "source": [
    "from transformers import Seq2SeqTrainingArguments, Seq2SeqTrainer\n",
    "import evaluate\n",
    "from datasets import Dataset\n",
    "import matplotlib.pyplot as plt\n",
    "import seaborn as sns"
   ]
  },
  {
   "cell_type": "code",
   "execution_count": 38,
   "id": "88f884f6-4141-4465-a240-ba3a826f39a3",
   "metadata": {},
   "outputs": [
    {
     "name": "stdout",
     "output_type": "stream",
     "text": [
      "Evaluating with BERT model.\n"
     ]
    },
    {
     "data": {
      "application/vnd.jupyter.widget-view+json": {
       "model_id": "e3a3167693bc468182af67f89fbdfae5",
       "version_major": 2,
       "version_minor": 0
      },
      "text/plain": [
       "Map:   0%|          | 0/20 [00:00<?, ? examples/s]"
      ]
     },
     "metadata": {},
     "output_type": "display_data"
    },
    {
     "name": "stderr",
     "output_type": "stream",
     "text": [
      "We strongly recommend passing in an `attention_mask` since your input_ids may be padded. See https://huggingface.co/docs/transformers/troubleshooting#incorrect-output-when-padding-tokens-arent-masked.\n"
     ]
    },
    {
     "name": "stdout",
     "output_type": "stream",
     "text": [
      "ROUGE-1 Score for BERT: 0.3981656652500931\n",
      "ROUGE-2 Score for BERT: 0.1699910493720534\n",
      "ROUGE-L Score for BERT: 0.2631048040960148\n",
      "ROUGE-Lsum Score for BERT: 0.3407507827238032\n",
      "\n",
      "\n",
      "Evaluating with BART model.\n"
     ]
    },
    {
     "data": {
      "application/vnd.jupyter.widget-view+json": {
       "model_id": "b83b17bc4c2f44ee912a79f2536cd847",
       "version_major": 2,
       "version_minor": 0
      },
      "text/plain": [
       "Map:   0%|          | 0/20 [00:00<?, ? examples/s]"
      ]
     },
     "metadata": {},
     "output_type": "display_data"
    },
    {
     "name": "stdout",
     "output_type": "stream",
     "text": [
      "ROUGE-1 Score for BART: 0.44009083889046535\n",
      "ROUGE-2 Score for BART: 0.22160035942296707\n",
      "ROUGE-L Score for BART: 0.3156369142487833\n",
      "ROUGE-Lsum Score for BART: 0.38467592455876054\n",
      "\n",
      "\n"
     ]
    }
   ],
   "source": [
    "# Load ROUGE metric\n",
    "rouge = evaluate.load(\"rouge\")\n",
    "\n",
    "# Convert DataFrame to Hugging Face Dataset\n",
    "test_data = Dataset.from_pandas(cnn)\n",
    "\n",
    "# Select a subset of the dataset for evaluation\n",
    "test_data = test_data.select(range(20))\n",
    "\n",
    "# Set batch size\n",
    "batch_size = 20 \n",
    "\n",
    "# Function to generate summaries\n",
    "def generate_summary(batch, model, tokenizer):\n",
    "    # Tokenizer will automatically set [BOS] <text> [EOS] for the respective models\n",
    "    inputs = tokenizer(batch[\"article\"], padding=\"max_length\", truncation=True, max_length=512, return_tensors=\"pt\")\n",
    "    input_ids = inputs.input_ids\n",
    "    attention_mask = inputs.attention_mask\n",
    "\n",
    "    # Generate summary using the model\n",
    "    outputs = model.generate(input_ids, attention_mask=attention_mask)\n",
    "\n",
    "    # Decode the generated output and remove special tokens\n",
    "    output_str = tokenizer.batch_decode(outputs, skip_special_tokens=True)\n",
    "\n",
    "    batch[\"pred\"] = output_str\n",
    "    return batch\n",
    "\n",
    "# Loop through models and their tokenizers\n",
    "models = [model_bert, model_bart]  # List of models\n",
    "tokenizers = [tokenizer_bert, tokenizer_bart]  # Corresponding tokenizers\n",
    "model_names = [\"BERT\", \"BART\"]  # Names for the models for printing\n",
    "\n",
    "# Dictionary to store ROUGE scores for each model\n",
    "rouge_scores = { \"model_name\": [], \"rouge1\": [], \"rouge2\": [], \"rougeL\": [], \"rougeLsum\": [] }\n",
    "\n",
    "# Iterate through both models and compute ROUGE scores for each\n",
    "for model, tokenizer, model_name in zip(models, tokenizers, model_names):\n",
    "    print(f\"Evaluating with {model_name} model.\")\n",
    "\n",
    "    # Apply the summarization function to the dataset\n",
    "    results = test_data.map(generate_summary, batched=True, batch_size=batch_size, remove_columns=[\"article\"], fn_kwargs={\"model\": model, \"tokenizer\": tokenizer})\n",
    "\n",
    "    # Get predictions and reference summaries\n",
    "    pred_str = results[\"pred\"]\n",
    "    label_str = results[\"highlights\"]\n",
    "\n",
    "    # Compute ROUGE scores\n",
    "    rouge1_output = rouge.compute(predictions=pred_str, references=label_str, rouge_types=[\"rouge1\"])[\"rouge1\"]\n",
    "    rouge2_output = rouge.compute(predictions=pred_str, references=label_str, rouge_types=[\"rouge2\"])[\"rouge2\"]\n",
    "    rougeL_output = rouge.compute(predictions=pred_str, references=label_str, rouge_types=[\"rougeL\"])[\"rougeL\"]\n",
    "    rougeLsum_output = rouge.compute(predictions=pred_str, references=label_str, rouge_types=[\"rougeLsum\"])[\"rougeLsum\"]\n",
    "\n",
    "    # Add results to the dictionary\n",
    "    rouge_scores[\"model_name\"].append(model_name)\n",
    "    rouge_scores[\"rouge1\"].append(rouge1_output)\n",
    "    rouge_scores[\"rouge2\"].append(rouge2_output)\n",
    "    rouge_scores[\"rougeL\"].append(rougeL_output)\n",
    "    rouge_scores[\"rougeLsum\"].append(rougeLsum_output)\n",
    "\n",
    "    # Print ROUGE scores for the current model\n",
    "    print(f\"ROUGE-1 Score for {model_name}: {rouge1_output}\")\n",
    "    print(f\"ROUGE-2 Score for {model_name}: {rouge2_output}\")\n",
    "    print(f\"ROUGE-L Score for {model_name}: {rougeL_output}\")\n",
    "    print(f\"ROUGE-Lsum Score for {model_name}: {rougeLsum_output}\")\n",
    "    print(\"\\n\")\n",
    "\n",
    "# (Google Colab, n.d.)"
   ]
  },
  {
   "cell_type": "code",
   "execution_count": 39,
   "id": "b8802814-6681-4771-b5f2-74fdc0d104a0",
   "metadata": {},
   "outputs": [
    {
     "data": {
      "image/png": "[encoded data removed]",
      "text/plain": [
       "<Figure size 900x400 with 1 Axes>"
      ]
     },
     "metadata": {},
     "output_type": "display_data"
    },
    {
     "data": {
      "text/markdown": [
       "__Figure 1.__ ROUGE scores for Bert and Bart models."
      ],
      "text/plain": [
       "<IPython.core.display.Markdown object>"
      ]
     },
     "metadata": {},
     "output_type": "display_data"
    }
   ],
   "source": [
    "from IPython.display import Markdown, display as i_display\n",
    "\n",
    "# Convert the results dictionary into a pandas DataFrame\n",
    "df_scores = pd.DataFrame(rouge_scores)\n",
    "\n",
    "# Reshape the dataframe for plotting\n",
    "df_scores_melted = df_scores.melt(id_vars=[\"model_name\"], var_name=\"ROUGE Score\", value_name=\"Score\")\n",
    "\n",
    "# Plot the bar chart using seaborn\n",
    "plt.figure(figsize=(9, 4))\n",
    "ax = sns.barplot(data=df_scores_melted, x=\"Score\", y=\"ROUGE Score\", hue=\"model_name\", orient=\"h\", palette=\"Paired\")\n",
    "\n",
    "# Add chart labels\n",
    "plt.title(\"Comparison of ROUGE Scores for BERT and BART Models\", fontsize=14)\n",
    "plt.xlabel(\"ROUGE Score\", fontsize=12)\n",
    "plt.ylabel(\"ROUGE Type\", fontsize=12)\n",
    "# Move legend outside of the plot (to the right)\n",
    "plt.legend(title=\"Model\", loc=\"upper left\", bbox_to_anchor=(1, .3))\n",
    "\n",
    "# Add the score values at the ends of the bars\n",
    "for p in ax.patches:\n",
    "    # p.get_width() gives the length of the bar\n",
    "    ax.text(p.get_width() + 0.01, p.get_y() + p.get_height() / 2, f'{p.get_width():.3f}', \n",
    "            horizontalalignment='left', verticalalignment='center', fontsize=12)\n",
    "\n",
    "# Show the plot\n",
    "plt.tight_layout()\n",
    "plt.show()\n",
    "i_display(Markdown(\"__Figure 1.__ ROUGE scores for Bert and Bart models.\"))"
   ]
  },
  {
   "cell_type": "markdown",
   "id": "d29ade28-9bae-4414-b0d9-42103274d560",
   "metadata": {},
   "source": [
    "The Bart model outperformed Bert on all metrics. Its summaries are more similar to the reference summaries."
   ]
  },
  {
   "cell_type": "markdown",
   "id": "c5edef1d-5cee-4772-ae3e-1e1ca47a9ae2",
   "metadata": {},
   "source": [
    "#### Extractive Question Answering\n",
    "One task an LLM can be trained to do is extractive question answering. For this task the model is provided context and then asked to answer a question based on the context. One example of a model which has been trained in this manor is Hugging Face's roberta-base-squad2 model (_Deepset/Roberta-base-squad2 · Hugging Face,_ 2001). This model will now be investigated."
   ]
  },
  {
   "cell_type": "code",
   "execution_count": 1,
   "id": "ec6409aa-fd0c-4b20-bfc7-c708a61ec0ed",
   "metadata": {},
   "outputs": [],
   "source": [
    "import numpy as np\n",
    "import os\n",
    "from prettytable import PrettyTable\n",
    "\n",
    "os.environ[\"HF_HUB_DISABLE_SYMLINKS_WARNING\"] = \"1\"\n",
    "from transformers import RobertaForQuestionAnswering, RobertaTokenizer\n",
    "\n",
    "# Load pre-trained model and tokenizer\n",
    "model_name = \"deepset/roberta-base-squad2\"\n",
    "model = RobertaForQuestionAnswering.from_pretrained(model_name)\n",
    "tokenizer = RobertaTokenizer.from_pretrained(model_name)"
   ]
  },
  {
   "cell_type": "markdown",
   "id": "9dd0078e-a5bd-497d-832f-14e2b46fd4a0",
   "metadata": {},
   "source": [
    "The model was trained on the SQuAD (Stanford Question Answering Dataset), which includes 'unanswerable questions.' These are questions for which the given context does not provide an answer. Let's use this to get an idea of model performance."
   ]
  },
  {
   "cell_type": "code",
   "execution_count": 2,
   "id": "482c9c53-725c-4a63-ae5f-8563e2969a19",
   "metadata": {},
   "outputs": [],
   "source": [
    "from datasets import load_dataset\n",
    "\n",
    "# Load SQuAD dataset (v2 includes unanswerable questions)\n",
    "dataset = load_dataset(\"squad_v2\")\n",
    "\n",
    "# Use validation split for evaluation\n",
    "val_data = dataset['validation']"
   ]
  },
  {
   "cell_type": "code",
   "execution_count": 3,
   "id": "10a3c215-b371-4078-afc8-7577797e941d",
   "metadata": {},
   "outputs": [],
   "source": [
    "from transformers import pipeline\n",
    "\n",
    "# Set up the QA pipeline\n",
    "qa_pipeline = pipeline(\"question-answering\", model=model, tokenizer=tokenizer)\n",
    "\n",
    "# Set confidence threshold\n",
    "CONFIDENCE = 0.4"
   ]
  },
  {
   "cell_type": "markdown",
   "id": "de378450-d2c2-4d23-8e1e-305de415f67a",
   "metadata": {},
   "source": [
    "Confidence threshold has been set to 0.4. Anything below this threshold is not a confident answer and will be considered a 'No answer.' Let's look at some of the data and answers provided by the model."
   ]
  },
  {
   "cell_type": "code",
   "execution_count": 4,
   "id": "154c187c-8add-4e61-a609-aad83c6d19b7",
   "metadata": {},
   "outputs": [
    {
     "name": "stdout",
     "output_type": "stream",
     "text": [
      "Example 1:\n",
      "Question: In what country is Normandy located?\n",
      "Answer: France.\n",
      "Confidence: 0.9817\n",
      "--------------------------------------------------\n",
      "Example 2:\n",
      "Question: When were the Normans in Normandy?\n",
      "Answer: 10th and 11th centuries\n",
      "Confidence: 0.6162\n",
      "--------------------------------------------------\n",
      "Example 3:\n",
      "Question: From which countries did the Norse originate?\n",
      "Answer: Denmark, Iceland and Norway\n",
      "Confidence: 0.4825\n",
      "--------------------------------------------------\n",
      "Example 4:\n",
      "Question: Who was the Norse leader?\n",
      "Answer: No answer.\n",
      "Confidence: 0.2665\n",
      "--------------------------------------------------\n",
      "Example 5:\n",
      "Question: What century did the Normans first gain their separate identity?\n",
      "Answer: 10th\n",
      "Confidence: 0.6701\n",
      "--------------------------------------------------\n",
      "Example 6:\n",
      "Question: Who gave their name to Normandy in the 1000's and 1100's\n",
      "Answer: No answer.\n",
      "Confidence: 0.0002\n",
      "--------------------------------------------------\n",
      "Example 7:\n",
      "Question: What is France a region of?\n",
      "Answer: No answer.\n",
      "Confidence: 0.0057\n",
      "--------------------------------------------------\n",
      "Example 8:\n",
      "Question: Who did King Charles III swear fealty to?\n",
      "Answer: No answer.\n",
      "Confidence: 0.0000\n",
      "--------------------------------------------------\n",
      "Example 9:\n",
      "Question: When did the Frankish identity emerge?\n",
      "Answer: No answer.\n",
      "Confidence: 0.0000\n",
      "--------------------------------------------------\n",
      "Example 10:\n",
      "Question: Who was the duke in the battle of Hastings?\n",
      "Answer: William the Conqueror,\n",
      "Confidence: 0.5964\n",
      "--------------------------------------------------\n"
     ]
    }
   ],
   "source": [
    "# Loop through the first 10 examples in val_data\n",
    "subset = val_data.select(range(10))\n",
    "\n",
    "for idx, example in enumerate(subset):\n",
    "    context = example['context']\n",
    "    question = example['question']\n",
    "\n",
    "    # Use the pipeline to get the answer\n",
    "    result = qa_pipeline(question=question, context=context)\n",
    "\n",
    "    if result['score'] > CONFIDENCE:\n",
    "        ans = result['answer']\n",
    "    else:\n",
    "        ans = 'No answer.'\n",
    "\n",
    "    # Output the question, answer, and confidence score\n",
    "    print(f\"Example {idx + 1}:\")\n",
    "    print(f\"Question: {question}\")\n",
    "    print(f\"Answer: {ans}\")\n",
    "    print(f\"Confidence: {result['score']:.4f}\")\n",
    "    print(\"-\" * 50)"
   ]
  },
  {
   "cell_type": "markdown",
   "id": "51d97b70-62c3-4fed-b1ad-a97c1d9fb04c",
   "metadata": {},
   "source": [
    "Looking at the confidence scores of these answers gives an idea of their likelihood of being correct. The model lacks confidence when not given enough context to answer the question."
   ]
  },
  {
   "cell_type": "code",
   "execution_count": 5,
   "id": "8948cccb-83cc-4dd5-8e67-3981be8de8e9",
   "metadata": {},
   "outputs": [],
   "source": [
    "# Function to evaluate model\n",
    "def evaluate_model(dataset, pipeline, confidence_threshold):\n",
    "    predictions = []\n",
    "    references = []\n",
    "    \n",
    "    for example in dataset:\n",
    "        result = pipeline(question=example['question'], context=example['context'])\n",
    "        \n",
    "        if result['score'] <= confidence_threshold:\n",
    "            predicted_answer = \"\"\n",
    "        else:\n",
    "            predicted_answer = result['answer']\n",
    "        \n",
    "        predictions.append(predicted_answer)\n",
    "        \n",
    "        if len(example['answers']['text']) > 0:\n",
    "            references.append(example['answers']['text'][0])\n",
    "        else:\n",
    "            references.append(\"\")\n",
    "    \n",
    "    return predictions, references\n",
    "\n",
    "# Evaluate on a subset of the dataset\n",
    "eval_dataset = val_data.select(range(100))\n",
    "predictions, references = evaluate_model(eval_dataset, qa_pipeline, CONFIDENCE)"
   ]
  },
  {
   "cell_type": "markdown",
   "id": "e0a15d46-2f27-4bdc-b615-63b2cc4d8cc3",
   "metadata": {},
   "source": [
    "Now that we have some answers (predictions) we can compare them to the reference answers. We'll look for exact matches but also cases where there is some overlap between the prediction and the reference answer (a modified F1 score)."
   ]
  },
  {
   "cell_type": "code",
   "execution_count": 41,
   "id": "e59f2513-5c73-4f14-b0b5-072c51d4ddce",
   "metadata": {},
   "outputs": [],
   "source": [
    "import re\n",
    "\n",
    "# Normalize function to process answers (this normalizes text to lowercase and removes punctuation)\n",
    "def normalize_answer(answer):\n",
    "    if not answer:\n",
    "        return \"\"\n",
    "    answer = answer.lower()\n",
    "    answer = re.sub(r\"\\s+\", \" \", answer)\n",
    "    answer = re.sub(r\"[^\\w\\s]\", \"\", answer)\n",
    "    return answer.strip()\n",
    "\n",
    "# F1 score calculation function using token-level comparison (precision and recall)\n",
    "def f1_score(pred, ref):\n",
    "    pred_tokens = set(pred.split())  # Tokenize prediction into a set of words\n",
    "    ref_tokens = set(ref.split())    # Tokenize reference into a set of words\n",
    "    \n",
    "    common_tokens = pred_tokens.intersection(ref_tokens)  # Find common tokens between pred and ref\n",
    "    if len(pred_tokens) + len(ref_tokens) == 0:\n",
    "        return 1.0  # If both are empty (no answer), return perfect F1 score (1)\n",
    "    \n",
    "    # Precision: how many common tokens are in the prediction\n",
    "    precision = len(common_tokens) / len(pred_tokens) if pred_tokens else 0\n",
    "    \n",
    "    # Recall: how many common tokens are in the reference\n",
    "    recall = len(common_tokens) / len(ref_tokens) if ref_tokens else 0\n",
    "    \n",
    "    # F1 score\n",
    "    if precision + recall == 0:\n",
    "        return 0.0\n",
    "    return 2 * (precision * recall) / (precision + recall)\n",
    "\n",
    "# Function to calculate Exact Match (EM) and modified F1 score\n",
    "def compute_em_and_f1(prediction, ground_truth):\n",
    "    # Normalize both the predicted and the ground truth answers\n",
    "    prediction = normalize_answer(prediction)\n",
    "    ground_truth = normalize_answer(ground_truth)\n",
    "\n",
    "    # Exact Match (EM)\n",
    "    em = int(prediction == ground_truth)\n",
    "\n",
    "    # If both prediction and ground truth are 'no answer' (empty string), return EM=1 and F1=0\n",
    "    if prediction == \"\" and ground_truth == \"\":\n",
    "        return em, 0.0\n",
    "\n",
    "    # F1 score is computed using the provided F1 score function (token-level)\n",
    "    f1 = f1_score(prediction, ground_truth)\n",
    "    \n",
    "    return em, f1\n",
    "\n",
    "# Function to evaluate EM and modified F1 score on a dataset\n",
    "def evaluate_em_f1(predictions, references, confidence_threshold):\n",
    "    total_em = 0\n",
    "    total_f1 = 0\n",
    "    total_questions = len(predictions)\n",
    "    \n",
    "    # Loop through each prediction and reference\n",
    "    for pred, ref in zip(predictions, references):\n",
    "        # If the model predicted 'no answer'\n",
    "        if pred == \"\":\n",
    "            if ref == \"\":  # True Negative: both model and ground truth have 'no answer'\n",
    "                total_em += 1  # True Negative counts as correct for EM (no mistake)\n",
    "                total_f1 += 0  # No answer, so F1 does not change\n",
    "            else:  # False Negative: model says no answer but ground truth has an answer\n",
    "                total_em += 0  # No Exact Match for False Negative\n",
    "                total_f1 += 0  # No F1 for False Negative\n",
    "        else:\n",
    "            # If the model provided an answer, we calculate EM and F1 normally\n",
    "            em, f1 = compute_em_and_f1(pred, ref)\n",
    "            total_em += em\n",
    "            total_f1 += f1\n",
    "    \n",
    "    # Calculate average EM and F1\n",
    "    average_em = total_em / total_questions\n",
    "    average_f1 = total_f1 / total_questions\n",
    "\n",
    "    return average_em, average_f1\n",
    "# (OpenAI)"
   ]
  },
  {
   "cell_type": "code",
   "execution_count": 42,
   "id": "47250884-5a2f-48ac-a6f5-5275c9473ac8",
   "metadata": {},
   "outputs": [
    {
     "name": "stdout",
     "output_type": "stream",
     "text": [
      "Average Exact Match (EM) Score: 0.7100\n",
      "Average modified F1 Score: 0.2807\n"
     ]
    }
   ],
   "source": [
    "# Get EM and F1 scores\n",
    "average_em, average_f1 = evaluate_em_f1(predictions, references, CONFIDENCE)\n",
    "\n",
    "print(f\"Average Exact Match (EM) Score: {average_em:.4f}\")\n",
    "print(f\"Average modified F1 Score: {average_f1:.4f}\")"
   ]
  },
  {
   "cell_type": "markdown",
   "id": "15fd60a7-5b5b-441a-92f2-6a262ee86743",
   "metadata": {},
   "source": [
    "Exact matches look good. The modified F1 score is a little low."
   ]
  },
  {
   "cell_type": "code",
   "execution_count": 43,
   "id": "599d7d30-5742-4e41-b43d-6ecf135c88f7",
   "metadata": {},
   "outputs": [
    {
     "data": {
      "image/png": "[encoded data removed]",
      "text/plain": [
       "<Figure size 640x480 with 2 Axes>"
      ]
     },
     "metadata": {},
     "output_type": "display_data"
    },
    {
     "data": {
      "text/markdown": [
       "__Figure 2.__ Confusion matrix for Roberta QA model on subset of SQuAD data."
      ],
      "text/plain": [
       "<IPython.core.display.Markdown object>"
      ]
     },
     "metadata": {},
     "output_type": "display_data"
    }
   ],
   "source": [
    "from sklearn.metrics import confusion_matrix, ConfusionMatrixDisplay, precision_recall_fscore_support\n",
    "\n",
    "# Calculate confusion matrix for unanswerable vs answerable questions\n",
    "# We assume the prediction is \"\" for unanswerable questions and any non-\"\" answer for answerable ones.\n",
    "y_true = [1 if ref != \"\" else 0 for ref in references]  # 1 if answerable, 0 if unanswerable\n",
    "y_pred = [1 if pred != \"\" else 0 for pred in predictions]  # 1 if predicted answer, 0 if predicted no answer\n",
    "\n",
    "cmatrix = confusion_matrix(y_true, y_pred)\n",
    "target_names = ['unanswerable', 'answerable']\n",
    "display = ConfusionMatrixDisplay(confusion_matrix = cmatrix, display_labels = target_names)\n",
    "display.plot(cmap=plt.cm.Blues)\n",
    "plt.title(\"Confusion Matrix\")\n",
    "plt.show()\n",
    "i_display(Markdown(\"__Figure 2.__ Confusion matrix for Roberta QA model on subset of SQuAD data.\"))"
   ]
  },
  {
   "cell_type": "code",
   "execution_count": 44,
   "id": "164bd5d4-e7e7-4d95-81ae-07dc1f6e4502",
   "metadata": {},
   "outputs": [
    {
     "name": "stdout",
     "output_type": "stream",
     "text": [
      "+-----------+--------+\n",
      "| Metric    | Value  |\n",
      "+-----------+--------+\n",
      "| Precision | 0.7805 |\n",
      "| Recall    | 0.7111 |\n",
      "| F1-Score  | 0.7442 |\n",
      "+-----------+--------+\n"
     ]
    },
    {
     "data": {
      "text/markdown": [
       "__Table 1.__ Evaluation metrics for Roberta QA model on subset of SQuAD data."
      ],
      "text/plain": [
       "<IPython.core.display.Markdown object>"
      ]
     },
     "metadata": {},
     "output_type": "display_data"
    }
   ],
   "source": [
    "# Calculate Precision, Recall, F1 for answerable vs. unanswerable questions\n",
    "precision, recall, fscore, _ = precision_recall_fscore_support(y_true, y_pred, average='binary')\n",
    "\n",
    "table1 = PrettyTable()\n",
    "\n",
    "# Add columns\n",
    "table1.field_names = [\"Metric\", \"Value\"]\n",
    "\n",
    "# Add rows\n",
    "table1.add_row([\"Precision\", f\"{precision:.4f}\"])\n",
    "table1.add_row([\"Recall\", f\"{recall:.4f}\"])\n",
    "table1.add_row([\"F1-Score\", f\"{fscore:.4f}\"])\n",
    "table1.align[\"Metric\"] = \"l\"\n",
    "print(table1)\n",
    "i_display(Markdown(\"__Table 1.__ Evaluation metrics for Roberta QA model on subset of SQuAD data.\"))"
   ]
  },
  {
   "cell_type": "markdown",
   "id": "aeba6bef-d176-476e-872d-45635e565613",
   "metadata": {},
   "source": [
    "For fun, we can test the model on some new material."
   ]
  },
  {
   "cell_type": "code",
   "execution_count": 45,
   "id": "f066b7c1-cc92-4a97-84a1-25c3c68b250b",
   "metadata": {},
   "outputs": [],
   "source": [
    "# Context is taken from my symbolic logic textbook\n",
    "context = '''Logic may be defined as the organized body of knowledge, or science, that evaluates arguments.\n",
    "All of us encounter arguments in our day-to-day experience. We read them in books and newspapers, hear them\n",
    "on television, and formulate them when communicating with friends and associates. The aim of logic is to\n",
    "develop a system of methods and principles that we may use as criteria for evaluating the arguments of others\n",
    "and as guides in constructing arguments of our own. Among the benefits to be expected from the study of logic\n",
    "is an increase in confidence that we are making sense when we criticize the arguments of others and when we \n",
    "advance arguments of our own.\n",
    "An argument, in its simplest form, is a group of statements, one or more of which (the premises) are claimed\n",
    "to provide support for, or reasons to believe, one of the others (the conclusion). Every argument may be placed\n",
    "in either of two basic groups: those in which the premises really do support the conclusion and those in which \n",
    "they do not, even though they are claimed to. The former are said to be good arguments (at least to that extent),\n",
    "the latter bad arguments. The purpose of logic, as the science that evaluates arguments, is thus to develop methods\n",
    "and techniques that allow us to distinguish good arguments from bad.'''"
   ]
  },
  {
   "cell_type": "code",
   "execution_count": 46,
   "id": "0aa48175-0c58-48cf-8a60-3450d8a88d61",
   "metadata": {},
   "outputs": [
    {
     "name": "stdout",
     "output_type": "stream",
     "text": [
      "{'score': 0.028357205912470818, 'start': 1169, 'end': 1202, 'answer': 'science that evaluates arguments,'}\n"
     ]
    }
   ],
   "source": [
    "question = \"What is the study of logic?\"\n",
    "\n",
    "result = qa_pipeline(question=question, context=context)\n",
    "print(result)"
   ]
  },
  {
   "cell_type": "code",
   "execution_count": 47,
   "id": "2204922a-f9f9-4195-b4fd-6b5612234fe9",
   "metadata": {},
   "outputs": [
    {
     "name": "stdout",
     "output_type": "stream",
     "text": [
      "{'score': 0.1417609304189682, 'start': 534, 'end': 581, 'answer': 'increase in confidence that we are making sense'}\n"
     ]
    }
   ],
   "source": [
    "question = \"What are the benefits of studying logic?\"\n",
    "\n",
    "result = qa_pipeline(question=question, context=context)\n",
    "print(result)"
   ]
  },
  {
   "cell_type": "code",
   "execution_count": 48,
   "id": "ed41154a-6dc7-4213-b3e8-57fdbbd5c06b",
   "metadata": {},
   "outputs": [
    {
     "name": "stdout",
     "output_type": "stream",
     "text": [
      "{'score': 0.14823214709758759, 'start': 1211, 'end': 1297, 'answer': 'to develop methods and techniques that allow us to distinguish good arguments from bad.'}\n"
     ]
    }
   ],
   "source": [
    "question = \"What is the purpose of logic?\"\n",
    "\n",
    "result = qa_pipeline(question=question, context=context)\n",
    "print(result)"
   ]
  },
  {
   "cell_type": "code",
   "execution_count": 49,
   "id": "ad83c976-7710-42db-aefe-7d0a17101bba",
   "metadata": {},
   "outputs": [
    {
     "name": "stdout",
     "output_type": "stream",
     "text": [
      "{'score': 1.3980442359340373e-09, 'start': 28, 'end': 94, 'answer': 'organized body of knowledge, or science, that evaluates arguments.'}\n"
     ]
    }
   ],
   "source": [
    "question = \"Who is Benjamin Franklin?\"\n",
    "\n",
    "result = qa_pipeline(question=question, context=context)\n",
    "print(result)"
   ]
  },
  {
   "cell_type": "markdown",
   "id": "9b34eb59-36a1-4a78-9603-e5919f6a5b4a",
   "metadata": {},
   "source": [
    "## Conclusion\n",
    "It's wonderful how many pre-trained LLMs are readily available. Though these models may not be quite ready for a specific problem, they are a good starting off point. I did notice that these models do take time to run, which was expected.\n",
    "\n",
    "I thought the Roberta-based question and answer model did better at answering questions about logic than I expected. It would be fun to play with it some more."
   ]
  },
  {
   "cell_type": "markdown",
   "id": "36746228-e028-4734-bd5e-7a783dd0a9c2",
   "metadata": {},
   "source": [
    "## References\n",
    "_CNN-DailyMail News Text summarization._ (2021, October 23). Kaggle. [https://www.kaggle.com/datasets/gowrishankarp/newspaper-text-summarization-cnn-dailymail]\n",
    "\n",
    "_deepset/roberta-base-squad2 · Hugging Face._ (2001, March 4). [https://huggingface.co/deepset/roberta-base-squad2]\n",
    "\n",
    "Google Colab. (n.d.). [https://colab.research.google.com/drive/1Ekd5pUeCX7VOrMx94_czTkwNtLN32Uyu?usp=sharing#scrollTo=oOoSrwWarJAC]\n",
    "\n",
    "OpenAI. (2024). _ChatGPT_ (Sept 2024) [AI model]. In respose to prompt, \"Please provide an example for calculating exact match and F1 score.\" on 2024/11/17 [https://www.openai.com/chatgpt]\n",
    "\n",
    "Waheed, A. (2023, June 17). _How to calculate ROUGE score in Python - the Python Code._ \n",
    "[https://thepythoncode.com/article/calculate-rouge-score-in-python]"
   ]
  }
 ],
 "metadata": {
  "kernelspec": {
   "display_name": "Python 3 (ipykernel)",
   "language": "python",
   "name": "python3"
  },
  "language_info": {
   "codemirror_mode": {
    "name": "ipython",
    "version": 3
   },
   "file_extension": ".py",
   "mimetype": "text/x-python",
   "name": "python",
   "nbconvert_exporter": "python",
   "pygments_lexer": "ipython3",
   "version": "3.11.7"
  }
 },
 "nbformat": 4,
 "nbformat_minor": 5
}
